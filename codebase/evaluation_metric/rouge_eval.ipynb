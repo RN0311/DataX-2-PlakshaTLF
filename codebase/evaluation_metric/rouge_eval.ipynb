{
  "nbformat": 4,
  "nbformat_minor": 0,
  "metadata": {
    "colab": {
      "name": "rouge_eval.ipynb",
      "provenance": [],
      "collapsed_sections": []
    },
    "kernelspec": {
      "name": "python3",
      "display_name": "Python 3"
    }
  },
  "cells": [
    {
      "cell_type": "code",
      "metadata": {
        "id": "cBWazcCsbOm2",
        "colab_type": "code",
        "outputId": "fff8f812-7be9-4258-8fa5-8d81ad483152",
        "colab": {
          "base_uri": "https://localhost:8080/",
          "height": 55
        }
      },
      "source": [
        "from google.colab import drive\n",
        "drive.mount('/content/drive')"
      ],
      "execution_count": 0,
      "outputs": [
        {
          "output_type": "stream",
          "text": [
            "Drive already mounted at /content/drive; to attempt to forcibly remount, call drive.mount(\"/content/drive\", force_remount=True).\n"
          ],
          "name": "stdout"
        }
      ]
    },
    {
      "cell_type": "code",
      "metadata": {
        "id": "gkfC_-FdbZ6v",
        "colab_type": "code",
        "outputId": "6544421e-d48a-4c34-b429-b8b8c72398a4",
        "colab": {
          "base_uri": "https://localhost:8080/",
          "height": 35
        }
      },
      "source": [
        "!ls"
      ],
      "execution_count": 0,
      "outputs": [
        {
          "output_type": "stream",
          "text": [
            "drive  sample_data\n"
          ],
          "name": "stdout"
        }
      ]
    },
    {
      "cell_type": "code",
      "metadata": {
        "id": "BbN8PaI6bpSP",
        "colab_type": "code",
        "outputId": "a0106739-d514-4d79-b07c-073beff6df9a",
        "colab": {
          "base_uri": "https://localhost:8080/",
          "height": 35
        }
      },
      "source": [
        "%cd drive"
      ],
      "execution_count": 0,
      "outputs": [
        {
          "output_type": "stream",
          "text": [
            "/content/drive\n"
          ],
          "name": "stdout"
        }
      ]
    },
    {
      "cell_type": "code",
      "metadata": {
        "id": "plrUCTiBbtfK",
        "colab_type": "code",
        "outputId": "57c0dc7f-1992-4b14-e9f0-283400dae2dc",
        "colab": {
          "base_uri": "https://localhost:8080/",
          "height": 35
        }
      },
      "source": [
        "%cd My\\ Drive"
      ],
      "execution_count": 0,
      "outputs": [
        {
          "output_type": "stream",
          "text": [
            "/content/drive/My Drive\n"
          ],
          "name": "stdout"
        }
      ]
    },
    {
      "cell_type": "code",
      "metadata": {
        "id": "dRhAliXibx53",
        "colab_type": "code",
        "outputId": "90113ef4-4bb9-4a36-cb0e-0887016e8a65",
        "colab": {
          "base_uri": "https://localhost:8080/",
          "height": 35
        }
      },
      "source": [
        "!pip install eazymind"
      ],
      "execution_count": 0,
      "outputs": [
        {
          "output_type": "stream",
          "text": [
            "Requirement already satisfied: eazymind in /usr/local/lib/python3.6/dist-packages (0.0.4)\n"
          ],
          "name": "stdout"
        }
      ]
    },
    {
      "cell_type": "code",
      "metadata": {
        "id": "uuiabxZcb06j",
        "colab_type": "code",
        "outputId": "39147bdc-1624-4433-bfb4-e638f7046b62",
        "colab": {
          "base_uri": "https://localhost:8080/",
          "height": 55
        }
      },
      "source": [
        "from eazymind.nlp.eazysum import Summarizer\n",
        "key = \"2b6d91a4cc9cc6fc4e0617f8152c8607\"\n",
        "\n",
        "sentence = \"\"\"Facebook CEO Mark Zuckerberg, left, makes the keynote speech at F8, the Facebook's developer conference, Tuesday, April 30, 2019, in San Jose, Calif. (AP Photo/Tony Avelar )\n",
        "Facebook says that, unlike its past, its future is privacy\n",
        "A trader works ahead of the closing bell on the floor of the New York Stock Exchange (NYSE) on April 12, 2019 in New York City. (Photo by Johannes EISELE / AFP)        (Photo credit should read JOHANNES EISELE/AFP/Getty Images)\n",
        "Resilience is still the word for stocks\"\"\"\n",
        "\n",
        "\n",
        "summarizer = Summarizer(key)\n",
        "abstractive_summarized_text = summarizer.run(sentence)\n",
        "print(summarizer.run(sentence))"
      ],
      "execution_count": 0,
      "outputs": [
        {
          "output_type": "stream",
          "text": [
            "mark zuckerberg left makes the keynote speech at the facebook s developer conference tuesday april in san jose calif ap phototony ap phototony avelar facebook mark zuckerberg . the keynote should read johannes eiseleafpgetty images resilience is still the word for stocks speech .\n"
          ],
          "name": "stdout"
        }
      ]
    },
    {
      "cell_type": "code",
      "metadata": {
        "id": "dr_UFpA9WL0a",
        "colab_type": "code",
        "outputId": "a3ae66ab-b131-4f37-d2de-b7b69f040b3b",
        "colab": {
          "base_uri": "https://localhost:8080/",
          "height": 606
        }
      },
      "source": [
        "!ls"
      ],
      "execution_count": 0,
      "outputs": [
        {
          "output_type": "stream",
          "text": [
            "'aadhar back.pdf'\n",
            "'aadhar front.pdf'\n",
            "'All India Postpoll 2014 Data file full and final.csv'\n",
            "'All India Postpoll 2014 Data file full and final_no_lable.csv'\n",
            "'All India Postpoll 2014 Data file full and final_no_lable.gsheet'\n",
            " Assignment-1.gdoc\n",
            " BAMMDP190911S3ONI03.jpg\n",
            "'Case Study 1 Report Assignment.docx'\n",
            "'Case Study 1 Report Assignment.gdoc'\n",
            " case_study-2.gdoc\n",
            " Classroom\n",
            "'Colab Notebooks'\n",
            "'Copy of Copy of abstractive_text_summarisation.ipynb'\n",
            "'design thinking.gdoc'\n",
            " Ethics_group_bigdata.gdoc\n",
            " Ethics_group_bigdata.pdf\n",
            " Ethics_group_project_full_format.gdoc\n",
            " ethics_personal.gdoc\n",
            "'Getting started.pdf'\n",
            "'Mayank report with notes (1).gdoc'\n",
            "'Mayank report with notes.gdoc'\n",
            "'Mayank report with notes.pdf'\n",
            " news_summary.csv\n",
            "'onion (1).h5'\n",
            " progress_report.gdoc\n",
            "'Project Details_ Data-X Lab 1.pdf'\n",
            "'Screenshot from 2019-10-31 01-23-55.png'\n",
            "'Screenshot from 2019-10-31 01-23-55 - Shikhar Seth.png'\n",
            " shikhar_final.pdf\n",
            " shikhar_resume.pdf\n",
            " sumdata\n",
            "'Untitled Diagram.png'\n",
            "'Work distribution.gdoc'\n"
          ],
          "name": "stdout"
        }
      ]
    },
    {
      "cell_type": "code",
      "metadata": {
        "id": "P341dA5Kb5-P",
        "colab_type": "code",
        "colab": {}
      },
      "source": [
        "import pandas as pd\n",
        "df =pd.read_csv(\"news_summary.csv\",encoding = \"latin-1\")"
      ],
      "execution_count": 0,
      "outputs": []
    },
    {
      "cell_type": "code",
      "metadata": {
        "id": "RDiznoxyVUmm",
        "colab_type": "code",
        "colab": {}
      },
      "source": [
        "df = df[:25]"
      ],
      "execution_count": 0,
      "outputs": []
    },
    {
      "cell_type": "code",
      "metadata": {
        "id": "8HwKRwSWVbM-",
        "colab_type": "code",
        "colab": {}
      },
      "source": [
        "scores = []\n",
        "bleus = []\n",
        "for i in range(25):\n",
        "  sent = df.ctext[i]\n",
        "  summarizer = Summarizer(key)\n",
        "  hyp = summarizer.run(sentence)\n",
        "  ref = df.text[i]\n",
        "  print(hyp)\n",
        "  print (\"Done\",i)\n",
        "  score = rouge.get_scores(ref,hyp)\n",
        "  ref = word_tokenize(ref)\n",
        "  hyp = word_tokenize(hyp)\n",
        "  bleu = corpus_bleu(references, candidates)\n",
        "  print (score)\n",
        "  print (bleu) \n",
        "  print (\"***************\")\n",
        "  "
      ],
      "execution_count": 0,
      "outputs": []
    },
    {
      "cell_type": "code",
      "metadata": {
        "id": "DF4_9uOXX97G",
        "colab_type": "code",
        "colab": {}
      },
      "source": [
        "from rouge import Rouge \n",
        "rouge = Rouge()\n"
      ],
      "execution_count": 0,
      "outputs": []
    },
    {
      "cell_type": "code",
      "metadata": {
        "id": "e90G_J_f7XTF",
        "colab_type": "code",
        "outputId": "f503e3b2-b498-4b91-ca39-7663a8b092e6",
        "colab": {
          "base_uri": "https://localhost:8080/",
          "height": 53
        }
      },
      "source": [
        "import nltk\n",
        "nltk.download('punkt')\n",
        "from nltk.translate.bleu_score import corpus_bleu\n",
        "from nltk.tokenize import word_tokenize"
      ],
      "execution_count": 0,
      "outputs": [
        {
          "output_type": "stream",
          "text": [
            "[nltk_data] Downloading package punkt to /root/nltk_data...\n",
            "[nltk_data]   Package punkt is already up-to-date!\n"
          ],
          "name": "stdout"
        }
      ]
    },
    {
      "cell_type": "code",
      "metadata": {
        "id": "pGjGe03676Lp",
        "colab_type": "code",
        "colab": {}
      },
      "source": [
        ""
      ],
      "execution_count": 0,
      "outputs": []
    }
  ]
}