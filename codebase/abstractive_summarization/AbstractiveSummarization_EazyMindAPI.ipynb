{
  "nbformat": 4,
  "nbformat_minor": 0,
  "metadata": {
    "colab": {
      "name": "AbstractiveSummarization-EazyMindAPI.ipynb",
      "provenance": [],
      "collapsed_sections": []
    },
    "kernelspec": {
      "name": "python3",
      "display_name": "Python 3"
    }
  },
  "cells": [
    {
      "cell_type": "code",
      "metadata": {
        "id": "RG6y9MkBpmNT",
        "colab_type": "code",
        "outputId": "9ad52268-4e41-4595-c1b4-3a5475723e7e",
        "colab": {
          "base_uri": "https://localhost:8080/",
          "height": 190
        }
      },
      "source": [
        "!pip install eazymind"
      ],
      "execution_count": 1,
      "outputs": [
        {
          "output_type": "stream",
          "text": [
            "Collecting eazymind\n",
            "  Downloading https://files.pythonhosted.org/packages/47/b8/97fbb378849970f3e806187144ef49dc0c83c4235c971ed4740bc170eb2d/eazymind-0.0.4.tar.gz\n",
            "Building wheels for collected packages: eazymind\n",
            "  Building wheel for eazymind (setup.py) ... \u001b[?25l\u001b[?25hdone\n",
            "  Created wheel for eazymind: filename=eazymind-0.0.4-cp36-none-any.whl size=2696 sha256=a3a92ec0e4a64770dfa0e453da36a26861e48533ef815a8df3f87458ba046188\n",
            "  Stored in directory: /root/.cache/pip/wheels/14/a6/f0/b7e176ed3b7e95f54c1686dd09a2290139dcd6c14584711135\n",
            "Successfully built eazymind\n",
            "Installing collected packages: eazymind\n",
            "Successfully installed eazymind-0.0.4\n"
          ],
          "name": "stdout"
        }
      ]
    },
    {
      "cell_type": "code",
      "metadata": {
        "id": "eaSZwyQ1ZMAp",
        "colab_type": "code",
        "outputId": "08109166-91dc-46e8-c44f-9d68aeeee971",
        "colab": {
          "base_uri": "https://localhost:8080/",
          "height": 122
        }
      },
      "source": [
        "from google.colab import drive\n",
        "drive.mount('/content/drive')"
      ],
      "execution_count": 2,
      "outputs": [
        {
          "output_type": "stream",
          "text": [
            "Go to this URL in a browser: https://accounts.google.com/o/oauth2/auth?client_id=947318989803-6bn6qk8qdgf4n4g3pfee6491hc0brc4i.apps.googleusercontent.com&redirect_uri=urn%3aietf%3awg%3aoauth%3a2.0%3aoob&response_type=code&scope=email%20https%3a%2f%2fwww.googleapis.com%2fauth%2fdocs.test%20https%3a%2f%2fwww.googleapis.com%2fauth%2fdrive%20https%3a%2f%2fwww.googleapis.com%2fauth%2fdrive.photos.readonly%20https%3a%2f%2fwww.googleapis.com%2fauth%2fpeopleapi.readonly\n",
            "\n",
            "Enter your authorization code:\n",
            "··········\n",
            "Mounted at /content/drive\n"
          ],
          "name": "stdout"
        }
      ]
    },
    {
      "cell_type": "code",
      "metadata": {
        "id": "l_D9VkzPp1Yi",
        "colab_type": "code",
        "outputId": "86923d6e-292b-4971-bd51-e2355aa03fb7",
        "colab": {
          "base_uri": "https://localhost:8080/",
          "height": 54
        }
      },
      "source": [
        "from eazymind.nlp.eazysum import Summarizer\n",
        "key = \"92f6b9b0fb3838f6b39450fac3b4a8d3\"\n",
        "\n",
        "sentence = \"\"\"Facebook CEO Mark Zuckerberg, left, makes the keynote speech at F8, the Facebook's developer conference, Tuesday, April 30, 2019, in San Jose, Calif. (AP Photo/Tony Avelar )\n",
        "Facebook says that, unlike its past, its future is privacy\n",
        "A trader works ahead of the closing bell on the floor of the New York Stock Exchange (NYSE) on April 12, 2019 in New York City. (Photo by Johannes EISELE / AFP)        (Photo credit should read JOHANNES EISELE/AFP/Getty Images)\n",
        "Resilience is still the word for stocks\"\"\"\n",
        "\n",
        "\n",
        "summarizer = Summarizer(key)\n",
        "abstractive_summarized_text = summarizer.run(sentence)\n",
        "print(summarizer.run(sentence))"
      ],
      "execution_count": 3,
      "outputs": [
        {
          "output_type": "stream",
          "text": [
            "mark zuckerberg left makes the keynote speech at the facebook s developer conference tuesday april in san jose calif ap phototony ap phototony avelar facebook mark zuckerberg . the keynote should read johannes eiseleafpgetty images resilience is still the word for stocks speech .\n"
          ],
          "name": "stdout"
        }
      ]
    },
    {
      "cell_type": "code",
      "metadata": {
        "id": "Z2AvoAoYZ6L5",
        "colab_type": "code",
        "outputId": "0ff116ce-a29e-4f33-b7fb-4b82a4b040f9",
        "colab": {
          "base_uri": "https://localhost:8080/",
          "height": 35
        }
      },
      "source": [
        "import os\n",
        "os.getcwd()"
      ],
      "execution_count": 0,
      "outputs": [
        {
          "output_type": "execute_result",
          "data": {
            "text/plain": [
              "'/root'"
            ]
          },
          "metadata": {
            "tags": []
          },
          "execution_count": 11
        }
      ]
    },
    {
      "cell_type": "code",
      "metadata": {
        "id": "iha24EHzp8E4",
        "colab_type": "code",
        "outputId": "edde48c0-1392-434e-e627-45a6191220b9",
        "colab": {
          "base_uri": "https://localhost:8080/",
          "height": 34
        }
      },
      "source": [
        "len(abstractive_summarized_text)"
      ],
      "execution_count": 4,
      "outputs": [
        {
          "output_type": "execute_result",
          "data": {
            "text/plain": [
              "280"
            ]
          },
          "metadata": {
            "tags": []
          },
          "execution_count": 4
        }
      ]
    },
    {
      "cell_type": "code",
      "metadata": {
        "id": "LmpNdxTiHT2r",
        "colab_type": "code",
        "outputId": "3140f248-d17a-46c9-9b8f-47fb224486d4",
        "colab": {
          "base_uri": "https://localhost:8080/",
          "height": 54
        }
      },
      "source": [
        "sentence = \"The Daman and Diu administration on Wednesday withdrew a circular that asked women staff to tie rakhis on male colleagues after the order triggered a backlash from employees and was ripped apart on social media.The union territory?s administration was forced to retreat within 24 hours of issuing the circular that made it compulsory for its staff to celebrate Rakshabandhan at workplace. She refused to be identified.The notice was issued on Daman and Diu administrator and former Gujarat home minister Praful Kodabhai Patel?s direction, sources said.Rakshabandhan, a celebration of the bond between brothers and sisters, is one of several Hindu festivities and rituals that are no longer confined of private, family affairs but have become tools to push politic al ideologies.In 2014, the year BJP stormed to power at the Centre, Rashtriya Swayamsevak Sangh (RSS) chief Mohan Bhagwat said the festival had ?national significance? The RSS is the ideological parent of the ruling BJP.Last year, women ministers in the Modi government went to the border areas to celebrate the festival with soldiers. the order, issued on August 1 by Gurpreet Singh, deputy secretary (personnel), had said.To ensure that no one skipped office, an attendance report was to be sent to the government the next evening.The two notifications ? The circular was withdrawn through a one-line order issued late in the evening by the UT?s department of personnel and administrative reforms.\"\n",
        "\n",
        "summarizer = Summarizer(key)\n",
        "abstractive_summarized_text = summarizer.run(sentence)\n",
        "print(summarizer.run(sentence))"
      ],
      "execution_count": 5,
      "outputs": [
        {
          "output_type": "stream",
          "text": [
            "daman administration on wednesday withdrew a circular asked women staff to tie rakhis on male colleagues after the order triggered a backlash to celebrate the circular that made it compulsory for its staff to celebrate rakshabandhan at workplace and diu administrator .\n"
          ],
          "name": "stdout"
        }
      ]
    },
    {
      "cell_type": "code",
      "metadata": {
        "id": "c1_zmeE9Idv1",
        "colab_type": "code",
        "outputId": "ccc84e0a-c4dc-47d2-8623-28adee65a61d",
        "colab": {
          "base_uri": "https://localhost:8080/",
          "height": 34
        }
      },
      "source": [
        "len(abstractive_summarized_text)"
      ],
      "execution_count": 6,
      "outputs": [
        {
          "output_type": "execute_result",
          "data": {
            "text/plain": [
              "269"
            ]
          },
          "metadata": {
            "tags": []
          },
          "execution_count": 6
        }
      ]
    },
    {
      "cell_type": "code",
      "metadata": {
        "id": "Tk6uM4dyJIUS",
        "colab_type": "code",
        "outputId": "971faf3a-442e-4713-d5d8-5f5bbf262557",
        "colab": {
          "base_uri": "https://localhost:8080/",
          "height": 105
        }
      },
      "source": [
        "!pip install rouge"
      ],
      "execution_count": 7,
      "outputs": [
        {
          "output_type": "stream",
          "text": [
            "Collecting rouge\n",
            "  Downloading https://files.pythonhosted.org/packages/63/ac/b93411318529980ab7f41e59ed64ec3ffed08ead32389e29eb78585dd55d/rouge-0.3.2-py3-none-any.whl\n",
            "Installing collected packages: rouge\n",
            "Successfully installed rouge-0.3.2\n"
          ],
          "name": "stdout"
        }
      ]
    },
    {
      "cell_type": "markdown",
      "metadata": {
        "id": "V3gHGsrkOjIi",
        "colab_type": "text"
      },
      "source": [
        "Evaludation Metrics \n",
        "- Rouge\n",
        "- BlueScore"
      ]
    },
    {
      "cell_type": "code",
      "metadata": {
        "id": "9_Y1K26XIuDi",
        "colab_type": "code",
        "colab": {}
      },
      "source": [
        "from rouge import Rouge \n",
        "hypothesis = \"daman administration on wednesday withdrew a circular asked women staff to tie rakhis on male colleagues after the order triggered a backlash to celebrate the circular that made it compulsory for its staff to celebrate rakshabandhan at workplace and diu administrator .\"\n",
        "reference = \"The Administration of Union Territory Daman and Diu has revoked its order that made it compulsory for women to tie rakhis to their male colleagues on the occasion of Rakshabandhan on August 7. The administration was forced to withdraw the decision within 24 hours of issuing the circular after it received flak from employees and was slammed on social media.\"\n",
        "rouge = Rouge()\n",
        "scores = rouge.get_scores(hypothesis, reference)"
      ],
      "execution_count": 0,
      "outputs": []
    },
    {
      "cell_type": "code",
      "metadata": {
        "id": "ykofoRsXJk4f",
        "colab_type": "code",
        "outputId": "b00557d4-0da9-421d-a689-0e4e5bca84ca",
        "colab": {
          "base_uri": "https://localhost:8080/",
          "height": 170
        }
      },
      "source": [
        "scores"
      ],
      "execution_count": 0,
      "outputs": [
        {
          "output_type": "execute_result",
          "data": {
            "text/plain": [
              "[{'rouge-1': {'f': 0.4691357976406036,\n",
              "   'p': 0.5757575757575758,\n",
              "   'r': 0.3958333333333333},\n",
              "  'rouge-2': {'f': 0.16494844884259766,\n",
              "   'p': 0.21052631578947367,\n",
              "   'r': 0.13559322033898305},\n",
              "  'rouge-l': {'f': 0.25471408390137595,\n",
              "   'p': 0.3333333333333333,\n",
              "   'r': 0.22916666666666666}}]"
            ]
          },
          "metadata": {
            "tags": []
          },
          "execution_count": 15
        }
      ]
    },
    {
      "cell_type": "code",
      "metadata": {
        "id": "0anV84BEK2xi",
        "colab_type": "code",
        "colab": {}
      },
      "source": [
        "# two references for one document\n",
        "from nltk.translate.bleu_score import corpus_bleu\n",
        "from nltk.tokenize import word_tokenize"
      ],
      "execution_count": 0,
      "outputs": []
    },
    {
      "cell_type": "code",
      "metadata": {
        "id": "-tMGX8lSJm8u",
        "colab_type": "code",
        "colab": {}
      },
      "source": [
        "\n",
        "references = [[['this', 'is', 'a', 'test'], ['this', 'is' 'test']]]\n",
        "candidates = [['this', 'is', 'a', 'test']]\n",
        "score = corpus_bleu(references, candidates)\n",
        "print(score)"
      ],
      "execution_count": 0,
      "outputs": []
    },
    {
      "cell_type": "code",
      "metadata": {
        "id": "9LaVzohBL2Dq",
        "colab_type": "code",
        "outputId": "0532b9ad-fa26-4f99-b6ce-75790c185c1a",
        "colab": {
          "base_uri": "https://localhost:8080/",
          "height": 34
        }
      },
      "source": [
        "candidates = word_tokenize(hypothesis)\n",
        "print(len(candidates))"
      ],
      "execution_count": 0,
      "outputs": [
        {
          "output_type": "stream",
          "text": [
            "42\n"
          ],
          "name": "stdout"
        }
      ]
    },
    {
      "cell_type": "code",
      "metadata": {
        "id": "GYlOUEy3LPN_",
        "colab_type": "code",
        "colab": {}
      },
      "source": [
        "import nltk"
      ],
      "execution_count": 0,
      "outputs": []
    },
    {
      "cell_type": "code",
      "metadata": {
        "id": "T6effR5_LTMf",
        "colab_type": "code",
        "outputId": "937ca779-aff9-48af-decf-5babcbc9339e",
        "colab": {
          "base_uri": "https://localhost:8080/",
          "height": 68
        }
      },
      "source": [
        "nltk.download('punkt')"
      ],
      "execution_count": 0,
      "outputs": [
        {
          "output_type": "stream",
          "text": [
            "[nltk_data] Downloading package punkt to /root/nltk_data...\n",
            "[nltk_data]   Unzipping tokenizers/punkt.zip.\n"
          ],
          "name": "stdout"
        },
        {
          "output_type": "execute_result",
          "data": {
            "text/plain": [
              "True"
            ]
          },
          "metadata": {
            "tags": []
          },
          "execution_count": 21
        }
      ]
    },
    {
      "cell_type": "code",
      "metadata": {
        "id": "ntSfzcouLUpY",
        "colab_type": "code",
        "colab": {}
      },
      "source": [
        "hypothesis = \"daman administration on wednesday withdrew a circular asked women staff to tie rakhis on male colleagues after the order triggered a backlash to celebrate the circular that made it compulsory for its staff to celebrate rakshabandhan at workplace and diu administrator .\".split()\n",
        "reference = \"The Administration of Union Territory Daman and Diu has revoked its order that made it compulsory for women to tie rakhis to their male colleagues on the occasion of Rakshabandhan on August 7. The administration was forced to withdraw the decision within 24 hours of issuing the circular after it received flak from employees and was slammed on social media.\".split()"
      ],
      "execution_count": 0,
      "outputs": []
    },
    {
      "cell_type": "code",
      "metadata": {
        "id": "0KmVxf0HMxxY",
        "colab_type": "code",
        "outputId": "88143dc3-a189-4c20-a7e1-e35d988a32b7",
        "colab": {
          "base_uri": "https://localhost:8080/",
          "height": 54
        }
      },
      "source": [
        "references = word_tokenize(hypothesis)\n",
        "print(references)"
      ],
      "execution_count": 0,
      "outputs": [
        {
          "output_type": "stream",
          "text": [
            "['daman', 'administration', 'on', 'wednesday', 'withdrew', 'a', 'circular', 'asked', 'women', 'staff', 'to', 'tie', 'rakhis', 'on', 'male', 'colleagues', 'after', 'the', 'order', 'triggered', 'a', 'backlash', 'to', 'celebrate', 'the', 'circular', 'that', 'made', 'it', 'compulsory', 'for', 'its', 'staff', 'to', 'celebrate', 'rakshabandhan', 'at', 'workplace', 'and', 'diu', 'administrator', '.']\n"
          ],
          "name": "stdout"
        }
      ]
    },
    {
      "cell_type": "code",
      "metadata": {
        "id": "JHe-FQ9qNLzd",
        "colab_type": "code",
        "outputId": "90a794d2-9116-4c53-e7f0-6dc3f21b461f",
        "colab": {
          "base_uri": "https://localhost:8080/",
          "height": 54
        }
      },
      "source": [
        "candidates = word_tokenize(reference)\n",
        "print(candidates)"
      ],
      "execution_count": 0,
      "outputs": [
        {
          "output_type": "stream",
          "text": [
            "['The', 'Administration', 'of', 'Union', 'Territory', 'Daman', 'and', 'Diu', 'has', 'revoked', 'its', 'order', 'that', 'made', 'it', 'compulsory', 'for', 'women', 'to', 'tie', 'rakhis', 'to', 'their', 'male', 'colleagues', 'on', 'the', 'occasion', 'of', 'Rakshabandhan', 'on', 'August', '7', '.', 'The', 'administration', 'was', 'forced', 'to', 'withdraw', 'the', 'decision', 'within', '24', 'hours', 'of', 'issuing', 'the', 'circular', 'after', 'it', 'received', 'flak', 'from', 'employees', 'and', 'was', 'slammed', 'on', 'social', 'media', '.']\n"
          ],
          "name": "stdout"
        }
      ]
    },
    {
      "cell_type": "code",
      "metadata": {
        "id": "3Ce6W8duN6PE",
        "colab_type": "code",
        "outputId": "6ddffce5-bdcf-4faf-d09f-40829b3de22f",
        "colab": {
          "base_uri": "https://localhost:8080/",
          "height": 34
        }
      },
      "source": [
        "BLEUscore = nltk.translate.bleu_score.corpus_bleu([reference], [candidates], weights = [0.1])\n",
        "print(BLEUscore)"
      ],
      "execution_count": 0,
      "outputs": [
        {
          "output_type": "stream",
          "text": [
            "0.7093553206951463\n"
          ],
          "name": "stdout"
        }
      ]
    },
    {
      "cell_type": "code",
      "metadata": {
        "id": "uGUS3PYcODDG",
        "colab_type": "code",
        "colab": {}
      },
      "source": [
        ""
      ],
      "execution_count": 0,
      "outputs": []
    }
  ]
}