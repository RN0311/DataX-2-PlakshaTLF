{
  "nbformat": 4,
  "nbformat_minor": 0,
  "metadata": {
    "colab": {
      "name": "SpeechToText.ipynb",
      "provenance": [],
      "collapsed_sections": []
    },
    "kernelspec": {
      "name": "python3",
      "display_name": "Python 3"
    },
    "accelerator": "GPU"
  },
  "cells": [
    {
      "cell_type": "code",
      "metadata": {
        "id": "DRYfffL4k3yy",
        "colab_type": "code",
        "colab": {}
      },
      "source": [
        "import speech_recognition as sr\n",
        "from tqdm import tqdm\n",
        "from punctuator import Punctuator\n",
        "p = Punctuator('Demo-Europarl-EN.pcl')"
      ],
      "execution_count": 0,
      "outputs": []
    },
    {
      "cell_type": "code",
      "metadata": {
        "id": "vB21Cpxlk9nX",
        "colab_type": "code",
        "colab": {
          "base_uri": "https://localhost:8080/",
          "height": 54
        },
        "outputId": "3d4505e2-0f5c-4cae-ded1-88f4c3f8ec32"
      },
      "source": [
        "AUDIO_FILE = (\"FinalRecording.wav\") \n",
        "r = sr.Recognizer() \n",
        "  \n",
        "with sr.AudioFile(AUDIO_FILE) as source: \n",
        "    audio = r.record(source) \n",
        "    \n",
        "try: \n",
        "    recognized_text = r.recognize_google(audio)\n",
        "    print(p.punctuate(recognized_text))\n",
        "except sr.UnknownValueError: \n",
        "    print(\"Google Speech Recognition could not understand audio\") \n",
        "except sr.RequestError as e: \n",
        "    print(\"Could not request results from Google Speech Recognition service; {0}\".format(e)) "
      ],
      "execution_count": 12,
      "outputs": [
        {
          "output_type": "stream",
          "text": [
            "Sequence to sequence: models are deep learning models that have achieved a lot of success in tossed like machine translation text, summarization an image, captioning Google, translate model and production in late 2016. These models are explained in the two pioneering papers. I found hoverboard that understanding the model well enough to implement. It requires unraveling, a series of Concepts that build on top of each other I thought that a bunch of these ideas would be more accessible. If expressed. Usually that's what I am doing this post, you will need some previous understanding of deep learning to get to this post. I hope it can be a useful companion to reading the papers mentioned about a sequence, sequence of items, Words letters, features of an image, Etc and output, other sequence of items, a train model of the Nardo. The output is looking under the hood and then.\n"
          ],
          "name": "stdout"
        }
      ]
    },
    {
      "cell_type": "code",
      "metadata": {
        "id": "IZrfmV9Rps1w",
        "colab_type": "code",
        "colab": {}
      },
      "source": [
        ""
      ],
      "execution_count": 0,
      "outputs": []
    }
  ]
}